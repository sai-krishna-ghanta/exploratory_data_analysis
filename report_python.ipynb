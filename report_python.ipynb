{
 "cells": [
  {
   "cell_type": "markdown",
   "id": "251f81ec",
   "metadata": {},
   "source": [
    "Imports and Setting up the workspace\n",
    "\n",
    "### Introduction\n",
    "The Panel Study of Income Dynamics (PSID) dataset contains information about 4856 people. It contains their age, education, earnings, hours, number of kids and their marital status. We are trying to analyze whether the number of hours a person work has an impact on his/her earnings."
   ]
  },
  {
   "cell_type": "code",
   "execution_count": 1,
   "id": "7767c982",
   "metadata": {},
   "outputs": [],
   "source": [
    "import csv\n",
    "import math\n",
    "import os\n",
    "\n",
    "import numpy as np\n",
    "import pandas as pd\n",
    "import seaborn as sns\n",
    "\n",
    "import matplotlib.mlab as mlab\n",
    "import matplotlib.pyplot as plt\n",
    "%matplotlib inline\n",
    "\n",
    "import scipy.stats as stat"
   ]
  },
  {
   "cell_type": "markdown",
   "id": "b4face7f",
   "metadata": {},
   "source": [
    "Importing the CSV file "
   ]
  },
  {
   "cell_type": "code",
   "execution_count": 3,
   "id": "dae87738",
   "metadata": {},
   "outputs": [
    {
     "data": {
      "text/html": [
       "<div>\n",
       "<style scoped>\n",
       "    .dataframe tbody tr th:only-of-type {\n",
       "        vertical-align: middle;\n",
       "    }\n",
       "\n",
       "    .dataframe tbody tr th {\n",
       "        vertical-align: top;\n",
       "    }\n",
       "\n",
       "    .dataframe thead th {\n",
       "        text-align: right;\n",
       "    }\n",
       "</style>\n",
       "<table border=\"1\" class=\"dataframe\">\n",
       "  <thead>\n",
       "    <tr style=\"text-align: right;\">\n",
       "      <th></th>\n",
       "      <th>Seq No</th>\n",
       "      <th>intnum</th>\n",
       "      <th>persnum</th>\n",
       "      <th>age</th>\n",
       "      <th>educatn</th>\n",
       "      <th>earnings</th>\n",
       "      <th>hours</th>\n",
       "      <th>kids</th>\n",
       "      <th>married</th>\n",
       "    </tr>\n",
       "  </thead>\n",
       "  <tbody>\n",
       "    <tr>\n",
       "      <th>0</th>\n",
       "      <td>1</td>\n",
       "      <td>4</td>\n",
       "      <td>4</td>\n",
       "      <td>39</td>\n",
       "      <td>12.0</td>\n",
       "      <td>77250</td>\n",
       "      <td>2940</td>\n",
       "      <td>2</td>\n",
       "      <td>married</td>\n",
       "    </tr>\n",
       "    <tr>\n",
       "      <th>1</th>\n",
       "      <td>2</td>\n",
       "      <td>4</td>\n",
       "      <td>6</td>\n",
       "      <td>35</td>\n",
       "      <td>12.0</td>\n",
       "      <td>12000</td>\n",
       "      <td>2040</td>\n",
       "      <td>2</td>\n",
       "      <td>divorced</td>\n",
       "    </tr>\n",
       "    <tr>\n",
       "      <th>2</th>\n",
       "      <td>3</td>\n",
       "      <td>4</td>\n",
       "      <td>7</td>\n",
       "      <td>33</td>\n",
       "      <td>12.0</td>\n",
       "      <td>8000</td>\n",
       "      <td>693</td>\n",
       "      <td>1</td>\n",
       "      <td>married</td>\n",
       "    </tr>\n",
       "    <tr>\n",
       "      <th>3</th>\n",
       "      <td>4</td>\n",
       "      <td>4</td>\n",
       "      <td>173</td>\n",
       "      <td>39</td>\n",
       "      <td>10.0</td>\n",
       "      <td>15000</td>\n",
       "      <td>1904</td>\n",
       "      <td>2</td>\n",
       "      <td>married</td>\n",
       "    </tr>\n",
       "    <tr>\n",
       "      <th>4</th>\n",
       "      <td>5</td>\n",
       "      <td>5</td>\n",
       "      <td>2</td>\n",
       "      <td>47</td>\n",
       "      <td>9.0</td>\n",
       "      <td>6500</td>\n",
       "      <td>1683</td>\n",
       "      <td>5</td>\n",
       "      <td>married</td>\n",
       "    </tr>\n",
       "  </tbody>\n",
       "</table>\n",
       "</div>"
      ],
      "text/plain": [
       "   Seq No  intnum  persnum  age  educatn  earnings  hours  kids   married\n",
       "0       1       4        4   39     12.0     77250   2940     2   married\n",
       "1       2       4        6   35     12.0     12000   2040     2  divorced\n",
       "2       3       4        7   33     12.0      8000    693     1   married\n",
       "3       4       4      173   39     10.0     15000   1904     2   married\n",
       "4       5       5        2   47      9.0      6500   1683     5   married"
      ]
     },
     "execution_count": 3,
     "metadata": {},
     "output_type": "execute_result"
    }
   ],
   "source": [
    "data = pd.read_csv('PSID.csv')\n",
    "data.head()"
   ]
  },
  {
   "cell_type": "markdown",
   "id": "65362eb8",
   "metadata": {},
   "source": [
    "The first three columns are Unessecary"
   ]
  },
  {
   "cell_type": "code",
   "execution_count": 6,
   "id": "f02f9e95",
   "metadata": {},
   "outputs": [
    {
     "data": {
      "text/html": [
       "<div>\n",
       "<style scoped>\n",
       "    .dataframe tbody tr th:only-of-type {\n",
       "        vertical-align: middle;\n",
       "    }\n",
       "\n",
       "    .dataframe tbody tr th {\n",
       "        vertical-align: top;\n",
       "    }\n",
       "\n",
       "    .dataframe thead th {\n",
       "        text-align: right;\n",
       "    }\n",
       "</style>\n",
       "<table border=\"1\" class=\"dataframe\">\n",
       "  <thead>\n",
       "    <tr style=\"text-align: right;\">\n",
       "      <th></th>\n",
       "      <th>age</th>\n",
       "      <th>educatn</th>\n",
       "      <th>earnings</th>\n",
       "      <th>hours</th>\n",
       "      <th>kids</th>\n",
       "      <th>married</th>\n",
       "    </tr>\n",
       "  </thead>\n",
       "  <tbody>\n",
       "    <tr>\n",
       "      <th>0</th>\n",
       "      <td>39</td>\n",
       "      <td>12.0</td>\n",
       "      <td>77250</td>\n",
       "      <td>2940</td>\n",
       "      <td>2</td>\n",
       "      <td>married</td>\n",
       "    </tr>\n",
       "    <tr>\n",
       "      <th>1</th>\n",
       "      <td>35</td>\n",
       "      <td>12.0</td>\n",
       "      <td>12000</td>\n",
       "      <td>2040</td>\n",
       "      <td>2</td>\n",
       "      <td>divorced</td>\n",
       "    </tr>\n",
       "    <tr>\n",
       "      <th>2</th>\n",
       "      <td>33</td>\n",
       "      <td>12.0</td>\n",
       "      <td>8000</td>\n",
       "      <td>693</td>\n",
       "      <td>1</td>\n",
       "      <td>married</td>\n",
       "    </tr>\n",
       "    <tr>\n",
       "      <th>3</th>\n",
       "      <td>39</td>\n",
       "      <td>10.0</td>\n",
       "      <td>15000</td>\n",
       "      <td>1904</td>\n",
       "      <td>2</td>\n",
       "      <td>married</td>\n",
       "    </tr>\n",
       "    <tr>\n",
       "      <th>4</th>\n",
       "      <td>47</td>\n",
       "      <td>9.0</td>\n",
       "      <td>6500</td>\n",
       "      <td>1683</td>\n",
       "      <td>5</td>\n",
       "      <td>married</td>\n",
       "    </tr>\n",
       "  </tbody>\n",
       "</table>\n",
       "</div>"
      ],
      "text/plain": [
       "   age  educatn  earnings  hours  kids   married\n",
       "0   39     12.0     77250   2940     2   married\n",
       "1   35     12.0     12000   2040     2  divorced\n",
       "2   33     12.0      8000    693     1   married\n",
       "3   39     10.0     15000   1904     2   married\n",
       "4   47      9.0      6500   1683     5   married"
      ]
     },
     "execution_count": 6,
     "metadata": {},
     "output_type": "execute_result"
    }
   ],
   "source": [
    "data = data.drop([\"Seq No\", \"intnum\", \"persnum\"],axis=1)\n",
    "data.head()"
   ]
  },
  {
   "cell_type": "markdown",
   "id": "c34a2a45",
   "metadata": {},
   "source": [
    "Analysing the data "
   ]
  },
  {
   "cell_type": "code",
   "execution_count": 8,
   "id": "382864bc",
   "metadata": {},
   "outputs": [
    {
     "data": {
      "text/html": [
       "<div>\n",
       "<style scoped>\n",
       "    .dataframe tbody tr th:only-of-type {\n",
       "        vertical-align: middle;\n",
       "    }\n",
       "\n",
       "    .dataframe tbody tr th {\n",
       "        vertical-align: top;\n",
       "    }\n",
       "\n",
       "    .dataframe thead th {\n",
       "        text-align: right;\n",
       "    }\n",
       "</style>\n",
       "<table border=\"1\" class=\"dataframe\">\n",
       "  <thead>\n",
       "    <tr style=\"text-align: right;\">\n",
       "      <th></th>\n",
       "      <th>age</th>\n",
       "      <th>educatn</th>\n",
       "      <th>earnings</th>\n",
       "      <th>hours</th>\n",
       "      <th>kids</th>\n",
       "    </tr>\n",
       "  </thead>\n",
       "  <tbody>\n",
       "    <tr>\n",
       "      <th>count</th>\n",
       "      <td>4856.000000</td>\n",
       "      <td>4855.000000</td>\n",
       "      <td>4856.000000</td>\n",
       "      <td>4856.000000</td>\n",
       "      <td>4856.000000</td>\n",
       "    </tr>\n",
       "    <tr>\n",
       "      <th>mean</th>\n",
       "      <td>38.462932</td>\n",
       "      <td>16.377137</td>\n",
       "      <td>14244.506178</td>\n",
       "      <td>1235.334843</td>\n",
       "      <td>4.481260</td>\n",
       "    </tr>\n",
       "    <tr>\n",
       "      <th>std</th>\n",
       "      <td>5.595116</td>\n",
       "      <td>18.449502</td>\n",
       "      <td>15985.447449</td>\n",
       "      <td>947.175837</td>\n",
       "      <td>14.887856</td>\n",
       "    </tr>\n",
       "    <tr>\n",
       "      <th>min</th>\n",
       "      <td>30.000000</td>\n",
       "      <td>0.000000</td>\n",
       "      <td>0.000000</td>\n",
       "      <td>0.000000</td>\n",
       "      <td>0.000000</td>\n",
       "    </tr>\n",
       "    <tr>\n",
       "      <th>25%</th>\n",
       "      <td>34.000000</td>\n",
       "      <td>12.000000</td>\n",
       "      <td>85.000000</td>\n",
       "      <td>32.000000</td>\n",
       "      <td>1.000000</td>\n",
       "    </tr>\n",
       "    <tr>\n",
       "      <th>50%</th>\n",
       "      <td>38.000000</td>\n",
       "      <td>12.000000</td>\n",
       "      <td>11000.000000</td>\n",
       "      <td>1517.000000</td>\n",
       "      <td>2.000000</td>\n",
       "    </tr>\n",
       "    <tr>\n",
       "      <th>75%</th>\n",
       "      <td>43.000000</td>\n",
       "      <td>14.000000</td>\n",
       "      <td>22000.000000</td>\n",
       "      <td>2000.000000</td>\n",
       "      <td>3.000000</td>\n",
       "    </tr>\n",
       "    <tr>\n",
       "      <th>max</th>\n",
       "      <td>50.000000</td>\n",
       "      <td>99.000000</td>\n",
       "      <td>240000.000000</td>\n",
       "      <td>5160.000000</td>\n",
       "      <td>99.000000</td>\n",
       "    </tr>\n",
       "  </tbody>\n",
       "</table>\n",
       "</div>"
      ],
      "text/plain": [
       "               age      educatn       earnings        hours         kids\n",
       "count  4856.000000  4855.000000    4856.000000  4856.000000  4856.000000\n",
       "mean     38.462932    16.377137   14244.506178  1235.334843     4.481260\n",
       "std       5.595116    18.449502   15985.447449   947.175837    14.887856\n",
       "min      30.000000     0.000000       0.000000     0.000000     0.000000\n",
       "25%      34.000000    12.000000      85.000000    32.000000     1.000000\n",
       "50%      38.000000    12.000000   11000.000000  1517.000000     2.000000\n",
       "75%      43.000000    14.000000   22000.000000  2000.000000     3.000000\n",
       "max      50.000000    99.000000  240000.000000  5160.000000    99.000000"
      ]
     },
     "execution_count": 8,
     "metadata": {},
     "output_type": "execute_result"
    }
   ],
   "source": [
    "data.describe()"
   ]
  },
  {
   "cell_type": "code",
   "execution_count": 9,
   "id": "3ce4061f",
   "metadata": {},
   "outputs": [
    {
     "data": {
      "text/plain": [
       "age           int64\n",
       "educatn     float64\n",
       "earnings      int64\n",
       "hours         int64\n",
       "kids          int64\n",
       "married      object\n",
       "dtype: object"
      ]
     },
     "execution_count": 9,
     "metadata": {},
     "output_type": "execute_result"
    }
   ],
   "source": [
    "data.dtypes"
   ]
  },
  {
   "cell_type": "markdown",
   "id": "56c4d869",
   "metadata": {},
   "source": [
    "Finding out the missing values and make our data clean\n",
    "\n",
    "PERFORMING IMPUTATION"
   ]
  },
  {
   "cell_type": "code",
   "execution_count": 10,
   "id": "93b26155",
   "metadata": {},
   "outputs": [
    {
     "data": {
      "text/plain": [
       "age         False\n",
       "educatn      True\n",
       "earnings    False\n",
       "hours       False\n",
       "kids        False\n",
       "married     False\n",
       "dtype: bool"
      ]
     },
     "execution_count": 10,
     "metadata": {},
     "output_type": "execute_result"
    }
   ],
   "source": [
    "## Find columns with NaN values\n",
    "data.isna().any()"
   ]
  },
  {
   "cell_type": "code",
   "execution_count": 11,
   "id": "01c86235",
   "metadata": {},
   "outputs": [
    {
     "data": {
      "text/plain": [
       "age         False\n",
       "educatn     False\n",
       "earnings    False\n",
       "hours       False\n",
       "kids        False\n",
       "married     False\n",
       "dtype: bool"
      ]
     },
     "execution_count": 11,
     "metadata": {},
     "output_type": "execute_result"
    }
   ],
   "source": [
    "data['educatn'] = data['educatn'].fillna(data['educatn'].mean())\n",
    "data.isna().any()"
   ]
  },
  {
   "cell_type": "markdown",
   "id": "84f550c3",
   "metadata": {},
   "source": [
    "GRAPHICAL ANALYSIS AND INTERPRETATION"
   ]
  },
  {
   "cell_type": "code",
   "execution_count": 13,
   "id": "9e35122b",
   "metadata": {},
   "outputs": [
    {
     "data": {
      "text/plain": [
       "Text(0.5, 0, 'Education level')"
      ]
     },
     "execution_count": 13,
     "metadata": {},
     "output_type": "execute_result"
    },
    {
     "data": {
      "image/png": "[encoded data removed]",
      "text/plain": [
       "<Figure size 432x288 with 1 Axes>"
      ]
     },
     "metadata": {
      "needs_background": "light"
     },
     "output_type": "display_data"
    }
   ],
   "source": [
    "data['educatn'].plot(kind='hist', bins=100)\n",
    "plt.xlabel('Education level')\n"
   ]
  },
  {
   "cell_type": "code",
   "execution_count": 14,
   "id": "089308e4",
   "metadata": {},
   "outputs": [
    {
     "data": {
      "text/plain": [
       "Text(0.5, 0, 'Number of kids')"
      ]
     },
     "execution_count": 14,
     "metadata": {},
     "output_type": "execute_result"
    },
    {
     "data": {
      "image/png": "[encoded data removed]",
      "text/plain": [
       "<Figure size 432x288 with 1 Axes>"
      ]
     },
     "metadata": {
      "needs_background": "light"
     },
     "output_type": "display_data"
    }
   ],
   "source": [
    "data['kids'].plot(kind='hist', bins=100)\n",
    "plt.xlabel('Number of kids')"
   ]
  },
  {
   "cell_type": "code",
   "execution_count": 17,
   "id": "f603af6d",
   "metadata": {},
   "outputs": [
    {
     "data": {
      "text/plain": [
       "Text(0.5, 0, 'Earnings')"
      ]
     },
     "execution_count": 17,
     "metadata": {},
     "output_type": "execute_result"
    },
    {
     "data": {
      "image/png": "[encoded data removed]",
      "text/plain": [
       "<Figure size 432x288 with 1 Axes>"
      ]
     },
     "metadata": {
      "needs_background": "light"
     },
     "output_type": "display_data"
    }
   ],
   "source": [
    "data['earnings'].plot(kind='hist', bins=100)\n",
    "plt.xlabel('Earnings')"
   ]
  },
  {
   "cell_type": "code",
   "execution_count": 18,
   "id": "0502b457",
   "metadata": {},
   "outputs": [
    {
     "data": {
      "text/plain": [
       "Text(0.5, 0, 'Hours')"
      ]
     },
     "execution_count": 18,
     "metadata": {},
     "output_type": "execute_result"
    },
    {
     "data": {
      "image/png": "[encoded data removed]",
      "text/plain": [
       "<Figure size 432x288 with 1 Axes>"
      ]
     },
     "metadata": {
      "needs_background": "light"
     },
     "output_type": "display_data"
    }
   ],
   "source": [
    "data['hours'].plot(kind='hist', bins=100)\n",
    "plt.xlabel('Hours')"
   ]
  },
  {
   "cell_type": "markdown",
   "id": "2794ff23",
   "metadata": {},
   "source": [
    "The data in csv is to hrad to visualze  . So we need to remove the invalid data in the data frame . Now, The question is how can we find the invalid data . The outliers in the data should be removed . ( Limiting kids <= 17.5 and education <=20 and earnings<= 150000 and hours > 0)"
   ]
  },
  {
   "cell_type": "code",
   "execution_count": 21,
   "id": "7f942ed3",
   "metadata": {},
   "outputs": [
    {
     "data": {
      "text/plain": [
       "Text(0.5, 0, 'Education Level')"
      ]
     },
     "execution_count": 21,
     "metadata": {},
     "output_type": "execute_result"
    },
    {
     "data": {
      "image/png": "[encoded data removed]",
      "text/plain": [
       "<Figure size 432x288 with 1 Axes>"
      ]
     },
     "metadata": {
      "needs_background": "light"
     },
     "output_type": "display_data"
    }
   ],
   "source": [
    "data = data.drop(data[data.educatn > 17.5].index)\n",
    "data['educatn'].plot(kind='hist', bins=50)\n",
    "plt.xlabel('Education Level')"
   ]
  },
  {
   "cell_type": "code",
   "execution_count": 33,
   "id": "332c9518",
   "metadata": {},
   "outputs": [
    {
     "data": {
      "text/plain": [
       "Text(0.5, 0, 'Number of Kids')"
      ]
     },
     "execution_count": 33,
     "metadata": {},
     "output_type": "execute_result"
    },
    {
     "data": {
      "image/png": "[encoded data removed]",
      "text/plain": [
       "<Figure size 432x288 with 1 Axes>"
      ]
     },
     "metadata": {
      "needs_background": "light"
     },
     "output_type": "display_data"
    }
   ],
   "source": [
    "data = data.drop(data[data.kids > 20].index)\n",
    "data['kids'].plot(kind='hist', bins=50)\n",
    "plt.xlabel('Number of Kids')"
   ]
  },
  {
   "cell_type": "code",
   "execution_count": 41,
   "id": "3a9e9429",
   "metadata": {},
   "outputs": [
    {
     "data": {
      "text/plain": [
       "Text(0.5, 0, 'earnings')"
      ]
     },
     "execution_count": 41,
     "metadata": {},
     "output_type": "execute_result"
    },
    {
     "data": {
      "image/png": "[encoded data removed]",
      "text/plain": [
       "<Figure size 432x288 with 1 Axes>"
      ]
     },
     "metadata": {
      "needs_background": "light"
     },
     "output_type": "display_data"
    }
   ],
   "source": [
    "data = data.drop(data[data.earnings > 80000].index)\n",
    "data = data.drop(data[data.earnings == 0].index)\n",
    "data['earnings'].plot(kind='hist', bins=100)\n",
    "plt.xlabel('earnings')"
   ]
  },
  {
   "cell_type": "code",
   "execution_count": 47,
   "id": "cfaf37f6",
   "metadata": {},
   "outputs": [
    {
     "data": {
      "text/plain": [
       "Text(0.5, 0, 'Hours')"
      ]
     },
     "execution_count": 47,
     "metadata": {},
     "output_type": "execute_result"
    },
    {
     "data": {
      "image/png": "[encoded data removed]",
      "text/plain": [
       "<Figure size 432x288 with 1 Axes>"
      ]
     },
     "metadata": {
      "needs_background": "light"
     },
     "output_type": "display_data"
    }
   ],
   "source": [
    "## Removed people who does not work (Hours == 0)\n",
    "data = data.drop(data[data.hours == 0].index)\n",
    "data['hours'].plot(kind='hist', bins=50)\n",
    "plt.xlabel('Hours')"
   ]
  },
  {
   "cell_type": "code",
   "execution_count": 48,
   "id": "f1f31916",
   "metadata": {},
   "outputs": [
    {
     "name": "stdout",
     "output_type": "stream",
     "text": [
      "Final statistics of the data\n"
     ]
    },
    {
     "data": {
      "text/html": [
       "<div>\n",
       "<style scoped>\n",
       "    .dataframe tbody tr th:only-of-type {\n",
       "        vertical-align: middle;\n",
       "    }\n",
       "\n",
       "    .dataframe tbody tr th {\n",
       "        vertical-align: top;\n",
       "    }\n",
       "\n",
       "    .dataframe thead th {\n",
       "        text-align: right;\n",
       "    }\n",
       "</style>\n",
       "<table border=\"1\" class=\"dataframe\">\n",
       "  <thead>\n",
       "    <tr style=\"text-align: right;\">\n",
       "      <th></th>\n",
       "      <th>age</th>\n",
       "      <th>educatn</th>\n",
       "      <th>earnings</th>\n",
       "      <th>hours</th>\n",
       "      <th>kids</th>\n",
       "    </tr>\n",
       "  </thead>\n",
       "  <tbody>\n",
       "    <tr>\n",
       "      <th>count</th>\n",
       "      <td>3438.000000</td>\n",
       "      <td>3438.000000</td>\n",
       "      <td>3438.000000</td>\n",
       "      <td>3438.000000</td>\n",
       "      <td>3438.000000</td>\n",
       "    </tr>\n",
       "    <tr>\n",
       "      <th>mean</th>\n",
       "      <td>38.495346</td>\n",
       "      <td>12.877836</td>\n",
       "      <td>18359.803083</td>\n",
       "      <td>1628.101513</td>\n",
       "      <td>2.018034</td>\n",
       "    </tr>\n",
       "    <tr>\n",
       "      <th>std</th>\n",
       "      <td>5.445726</td>\n",
       "      <td>2.497639</td>\n",
       "      <td>13550.823768</td>\n",
       "      <td>716.830536</td>\n",
       "      <td>1.333623</td>\n",
       "    </tr>\n",
       "    <tr>\n",
       "      <th>min</th>\n",
       "      <td>30.000000</td>\n",
       "      <td>0.000000</td>\n",
       "      <td>13.000000</td>\n",
       "      <td>6.000000</td>\n",
       "      <td>0.000000</td>\n",
       "    </tr>\n",
       "    <tr>\n",
       "      <th>25%</th>\n",
       "      <td>34.000000</td>\n",
       "      <td>12.000000</td>\n",
       "      <td>8000.000000</td>\n",
       "      <td>1213.000000</td>\n",
       "      <td>1.000000</td>\n",
       "    </tr>\n",
       "    <tr>\n",
       "      <th>50%</th>\n",
       "      <td>38.000000</td>\n",
       "      <td>12.000000</td>\n",
       "      <td>16000.000000</td>\n",
       "      <td>1852.500000</td>\n",
       "      <td>2.000000</td>\n",
       "    </tr>\n",
       "    <tr>\n",
       "      <th>75%</th>\n",
       "      <td>43.000000</td>\n",
       "      <td>14.000000</td>\n",
       "      <td>26000.000000</td>\n",
       "      <td>2040.000000</td>\n",
       "      <td>3.000000</td>\n",
       "    </tr>\n",
       "    <tr>\n",
       "      <th>max</th>\n",
       "      <td>50.000000</td>\n",
       "      <td>17.000000</td>\n",
       "      <td>78000.000000</td>\n",
       "      <td>5025.000000</td>\n",
       "      <td>10.000000</td>\n",
       "    </tr>\n",
       "  </tbody>\n",
       "</table>\n",
       "</div>"
      ],
      "text/plain": [
       "               age      educatn      earnings        hours         kids\n",
       "count  3438.000000  3438.000000   3438.000000  3438.000000  3438.000000\n",
       "mean     38.495346    12.877836  18359.803083  1628.101513     2.018034\n",
       "std       5.445726     2.497639  13550.823768   716.830536     1.333623\n",
       "min      30.000000     0.000000     13.000000     6.000000     0.000000\n",
       "25%      34.000000    12.000000   8000.000000  1213.000000     1.000000\n",
       "50%      38.000000    12.000000  16000.000000  1852.500000     2.000000\n",
       "75%      43.000000    14.000000  26000.000000  2040.000000     3.000000\n",
       "max      50.000000    17.000000  78000.000000  5025.000000    10.000000"
      ]
     },
     "execution_count": 48,
     "metadata": {},
     "output_type": "execute_result"
    }
   ],
   "source": [
    "print(\"Final statistics of the data\")\n",
    "data.describe()\n"
   ]
  },
  {
   "cell_type": "markdown",
   "id": "6889ee30",
   "metadata": {},
   "source": [
    "Identifying independent and dependent variables\n",
    "\n",
    "Comparisions "
   ]
  },
  {
   "cell_type": "code",
   "execution_count": 53,
   "id": "996fdf21",
   "metadata": {},
   "outputs": [
    {
     "data": {
      "text/plain": [
       "Text(0, 0.5, 'Earnings')"
      ]
     },
     "execution_count": 53,
     "metadata": {},
     "output_type": "execute_result"
    },
    {
     "data": {
      "image/png": "[encoded data removed]",
      "text/plain": [
       "<Figure size 864x720 with 1 Axes>"
      ]
     },
     "metadata": {
      "needs_background": "light"
     },
     "output_type": "display_data"
    }
   ],
   "source": [
    "plt.figure(figsize=(12, 10))\n",
    "plt.plot(data['educatn'], data['earnings'], 'ro')\n",
    "plt.title('Earnings vs Education')\n",
    "plt.xlabel(\"Education\")\n",
    "plt.ylabel(\"Earnings\")"
   ]
  },
  {
   "cell_type": "code",
   "execution_count": 60,
   "id": "f0161dd5",
   "metadata": {},
   "outputs": [
    {
     "data": {
      "text/plain": [
       "Text(0, 0.5, 'Kids')"
      ]
     },
     "execution_count": 60,
     "metadata": {},
     "output_type": "execute_result"
    },
    {
     "data": {
      "image/png": "[encoded data removed]",
      "text/plain": [
       "<Figure size 432x288 with 1 Axes>"
      ]
     },
     "metadata": {
      "needs_background": "light"
     },
     "output_type": "display_data"
    }
   ],
   "source": [
    "plt.plot(data['educatn'], data['kids'], 'ks')\n",
    "plt.title('Kids vs education')\n",
    "plt.xlabel(\"Education\")\n",
    "plt.ylabel(\"Kids\")"
   ]
  },
  {
   "cell_type": "code",
   "execution_count": 57,
   "id": "53e99b2c",
   "metadata": {},
   "outputs": [
    {
     "data": {
      "text/plain": [
       "Text(0, 0.5, 'Earnings')"
      ]
     },
     "execution_count": 57,
     "metadata": {},
     "output_type": "execute_result"
    },
    {
     "data": {
      "image/png": "[encoded data removed]",
      "text/plain": [
       "<Figure size 432x288 with 1 Axes>"
      ]
     },
     "metadata": {
      "needs_background": "light"
     },
     "output_type": "display_data"
    }
   ],
   "source": [
    "plt.plot(data['hours'], data['earnings'], 'b^')\n",
    "plt.title('Earnings vs hours')\n",
    "plt.xlabel(\"Hours\")\n",
    "plt.ylabel(\"Earnings\")"
   ]
  },
  {
   "cell_type": "code",
   "execution_count": 59,
   "id": "44d668a8",
   "metadata": {},
   "outputs": [
    {
     "data": {
      "text/plain": [
       "Text(0, 0.5, 'Hours')"
      ]
     },
     "execution_count": 59,
     "metadata": {},
     "output_type": "execute_result"
    },
    {
     "data": {
      "image/png": "[encoded data removed]",
      "text/plain": [
       "<Figure size 432x288 with 1 Axes>"
      ]
     },
     "metadata": {
      "needs_background": "light"
     },
     "output_type": "display_data"
    }
   ],
   "source": [
    "plt.plot(data['kids'], data['hours'], 'ro')\n",
    "plt.title('Hours vs kids')\n",
    "plt.xlabel(\"Kids\")\n",
    "plt.ylabel(\"Hours\")"
   ]
  },
  {
   "cell_type": "markdown",
   "id": "82da32cb",
   "metadata": {},
   "source": [
    "Identifying correlation between the variables using Pearson's correlation coefficient\n",
    "\n",
    "We used Pearson's correlation coefficient to identify related variables. We observed the high correlation (=0.466571) between \"earnings\" and \"hours\" variables."
   ]
  },
  {
   "cell_type": "code",
   "execution_count": 63,
   "id": "701936cd",
   "metadata": {},
   "outputs": [
    {
     "data": {
      "text/html": [
       "<div>\n",
       "<style scoped>\n",
       "    .dataframe tbody tr th:only-of-type {\n",
       "        vertical-align: middle;\n",
       "    }\n",
       "\n",
       "    .dataframe tbody tr th {\n",
       "        vertical-align: top;\n",
       "    }\n",
       "\n",
       "    .dataframe thead th {\n",
       "        text-align: right;\n",
       "    }\n",
       "</style>\n",
       "<table border=\"1\" class=\"dataframe\">\n",
       "  <thead>\n",
       "    <tr style=\"text-align: right;\">\n",
       "      <th></th>\n",
       "      <th>age</th>\n",
       "      <th>educatn</th>\n",
       "      <th>earnings</th>\n",
       "      <th>hours</th>\n",
       "      <th>kids</th>\n",
       "    </tr>\n",
       "  </thead>\n",
       "  <tbody>\n",
       "    <tr>\n",
       "      <th>age</th>\n",
       "      <td>1.000000</td>\n",
       "      <td>-0.010909</td>\n",
       "      <td>0.122661</td>\n",
       "      <td>0.061675</td>\n",
       "      <td>0.153328</td>\n",
       "    </tr>\n",
       "    <tr>\n",
       "      <th>educatn</th>\n",
       "      <td>-0.010909</td>\n",
       "      <td>1.000000</td>\n",
       "      <td>0.392124</td>\n",
       "      <td>0.070879</td>\n",
       "      <td>-0.277195</td>\n",
       "    </tr>\n",
       "    <tr>\n",
       "      <th>earnings</th>\n",
       "      <td>0.122661</td>\n",
       "      <td>0.392124</td>\n",
       "      <td>1.000000</td>\n",
       "      <td>0.479974</td>\n",
       "      <td>-0.244893</td>\n",
       "    </tr>\n",
       "    <tr>\n",
       "      <th>hours</th>\n",
       "      <td>0.061675</td>\n",
       "      <td>0.070879</td>\n",
       "      <td>0.479974</td>\n",
       "      <td>1.000000</td>\n",
       "      <td>-0.113839</td>\n",
       "    </tr>\n",
       "    <tr>\n",
       "      <th>kids</th>\n",
       "      <td>0.153328</td>\n",
       "      <td>-0.277195</td>\n",
       "      <td>-0.244893</td>\n",
       "      <td>-0.113839</td>\n",
       "      <td>1.000000</td>\n",
       "    </tr>\n",
       "  </tbody>\n",
       "</table>\n",
       "</div>"
      ],
      "text/plain": [
       "               age   educatn  earnings     hours      kids\n",
       "age       1.000000 -0.010909  0.122661  0.061675  0.153328\n",
       "educatn  -0.010909  1.000000  0.392124  0.070879 -0.277195\n",
       "earnings  0.122661  0.392124  1.000000  0.479974 -0.244893\n",
       "hours     0.061675  0.070879  0.479974  1.000000 -0.113839\n",
       "kids      0.153328 -0.277195 -0.244893 -0.113839  1.000000"
      ]
     },
     "execution_count": 63,
     "metadata": {},
     "output_type": "execute_result"
    }
   ],
   "source": [
    "data.corr(method='pearson')"
   ]
  },
  {
   "cell_type": "markdown",
   "id": "dec91a00",
   "metadata": {},
   "source": [
    "Plotting the Heatmap for most correlated attributes for \"earnings\""
   ]
  },
  {
   "cell_type": "code",
   "execution_count": 65,
   "id": "c296da84",
   "metadata": {},
   "outputs": [
    {
     "name": "stdout",
     "output_type": "stream",
     "text": [
      "Index(['educatn', 'earnings', 'hours', 'kids'], dtype='object')\n"
     ]
    },
    {
     "data": {
      "image/png": "[encoded data removed]",
      "text/plain": [
       "<Figure size 432x432 with 2 Axes>"
      ]
     },
     "metadata": {
      "needs_background": "light"
     },
     "output_type": "display_data"
    }
   ],
   "source": [
    "my_data = data\n",
    "corrValues = my_data.corr(method='pearson')\n",
    "topCorrFeaturesForEarnig = corrValues.index[abs(corrValues['earnings']) >= 0.2]\n",
    "print(topCorrFeaturesForEarnig)\n",
    "\n",
    "plt.figure(figsize=(6,6))\n",
    "ax = sns.heatmap(my_data[topCorrFeaturesForEarnig].corr(), annot=True, cmap=\"RdYlGn\")"
   ]
  },
  {
   "cell_type": "markdown",
   "id": "1378f10a",
   "metadata": {},
   "source": [
    "It can be observed that there is a high(=0.466571) linear correlation between| \"earnings\" and \"hours\"\n"
   ]
  },
  {
   "cell_type": "code",
   "execution_count": 69,
   "id": "c67577a7",
   "metadata": {},
   "outputs": [
    {
     "data": {
      "image/png": "[encoded data removed]",
      "text/plain": [
       "<Figure size 576x432 with 1 Axes>"
      ]
     },
     "metadata": {
      "needs_background": "light"
     },
     "output_type": "display_data"
    }
   ],
   "source": [
    "ax = my_data.plot.scatter(x='hours', y='earnings', c='green', figsize=(8, 6), label='Scatter Plot between hours vs earning')"
   ]
  },
  {
   "cell_type": "markdown",
   "id": "88bd6cde",
   "metadata": {},
   "source": [
    "Test for normal distribution for variable Hours"
   ]
  },
  {
   "cell_type": "code",
   "execution_count": 71,
   "id": "3297efa7",
   "metadata": {},
   "outputs": [
    {
     "name": "stdout",
     "output_type": "stream",
     "text": [
      "2.8791246110122 0.2370314833557523\n",
      "It is likely that hours are normally distributed.\n"
     ]
    }
   ],
   "source": [
    "value, p = stat.normaltest(my_data['hours'].sample(50))\n",
    "print(value, p)\n",
    "if p >= 0.05:\n",
    "\tprint('It is likely that hours are normally distributed.')\n",
    "else:\n",
    "\tprint('It is unlikely that hours are normally distributed.')"
   ]
  },
  {
   "cell_type": "markdown",
   "id": "2c09ef72",
   "metadata": {},
   "source": [
    "Extracting 2 random and equal size samples without replacement"
   ]
  },
  {
   "cell_type": "code",
   "execution_count": 72,
   "id": "e68dc630",
   "metadata": {},
   "outputs": [
    {
     "name": "stdout",
     "output_type": "stream",
     "text": [
      "16000.0\n",
      "High earning people count = 1689\n",
      "Low earning people count = 1749\n"
     ]
    }
   ],
   "source": [
    "samplingSize = 1000\n",
    "highLowEarningValMargin = my_data.earnings.median()\n",
    "print(highLowEarningValMargin)\n",
    "\n",
    "highEarningsWorkingHours = my_data[my_data.earnings> highLowEarningValMargin].hours\n",
    "print(\"High earning people count =\", highEarningsWorkingHours.count())\n",
    "\n",
    "lowEarningsWorkingHours = my_data[my_data.earnings<= highLowEarningValMargin].hours\n",
    "print(\"Low earning people count =\", lowEarningsWorkingHours.count())"
   ]
  },
  {
   "cell_type": "code",
   "execution_count": 73,
   "id": "e7dc1fdc",
   "metadata": {},
   "outputs": [
    {
     "data": {
      "text/plain": [
       "count    1000.000000\n",
       "mean     1917.891000\n",
       "std       467.042713\n",
       "min       122.000000\n",
       "25%      1769.250000\n",
       "50%      1960.000000\n",
       "75%      2099.250000\n",
       "max      4233.000000\n",
       "Name: hours, dtype: float64"
      ]
     },
     "execution_count": 73,
     "metadata": {},
     "output_type": "execute_result"
    }
   ],
   "source": [
    "Hours_of_high_earnings = my_data[my_data.earnings> highLowEarningValMargin].hours.sample(samplingSize).sort_values()\n",
    "Hours_of_high_earnings.describe()"
   ]
  },
  {
   "cell_type": "code",
   "execution_count": 74,
   "id": "3e33e55e",
   "metadata": {},
   "outputs": [
    {
     "data": {
      "text/plain": [
       "count    1000.000000\n",
       "mean     1332.970000\n",
       "std       778.071166\n",
       "min         6.000000\n",
       "25%       685.500000\n",
       "50%      1442.000000\n",
       "75%      1970.000000\n",
       "max      5025.000000\n",
       "Name: hours, dtype: float64"
      ]
     },
     "execution_count": 74,
     "metadata": {},
     "output_type": "execute_result"
    }
   ],
   "source": [
    "\n",
    "Hours_of_low_earnings = my_data[my_data.earnings<= highLowEarningValMargin].hours.sample(samplingSize).sort_values()\n",
    "Hours_of_low_earnings.describe()"
   ]
  },
  {
   "cell_type": "code",
   "execution_count": 75,
   "id": "e7e6ab6d",
   "metadata": {},
   "outputs": [
    {
     "data": {
      "text/plain": [
       "<matplotlib.legend.Legend at 0x23c64159100>"
      ]
     },
     "execution_count": 75,
     "metadata": {},
     "output_type": "execute_result"
    },
    {
     "data": {
      "image/png": "[encoded data removed]",
      "text/plain": [
       "<Figure size 576x288 with 1 Axes>"
      ]
     },
     "metadata": {
      "needs_background": "light"
     },
     "output_type": "display_data"
    }
   ],
   "source": [
    "Population = my_data['hours'].sort_values();\n",
    "PopulationHours = stat.norm.pdf(Population, Population.mean(), Population.std())\n",
    "fig, ax = plt.subplots(figsize=(8,4))\n",
    "\n",
    "ax.plot(Population, PopulationHours, label='Hours')\n",
    "\n",
    "hour_data_fit1 = stat.norm.pdf(Hours_of_high_earnings, Hours_of_high_earnings.mean(), Hours_of_high_earnings.std())\n",
    "ax.plot(Hours_of_high_earnings, hour_data_fit1, label='High earnings Sample')\n",
    "\n",
    "hour_data_fit2 = stat.norm.pdf(Hours_of_low_earnings, Hours_of_low_earnings.mean(), Hours_of_low_earnings.std())\n",
    "ax.plot(Hours_of_low_earnings, hour_data_fit2, label='Low earnings Sample')\n",
    "\n",
    "plt.title('Distribution of hours people work')\n",
    "plt.xlabel('Hours work')\n",
    "plt.ylabel('pdf')\n",
    "plt.legend()"
   ]
  },
  {
   "cell_type": "markdown",
   "id": "349e6900",
   "metadata": {},
   "source": [
    "Hypothesis testing : Ha = People with high earnings work more hours, \n",
    "\n",
    "\n",
    "H0 = People with high or low earnings work the same number of hours"
   ]
  },
  {
   "cell_type": "code",
   "execution_count": 76,
   "id": "ba901dcb",
   "metadata": {},
   "outputs": [
    {
     "name": "stdout",
     "output_type": "stream",
     "text": [
      "Statistics=20.383, p=0.000\n",
      "People with high earnings work more hours (reject H0)\n"
     ]
    }
   ],
   "source": [
    "statistics, p = stat.ttest_ind(Hours_of_high_earnings, Hours_of_low_earnings)\n",
    "print('Statistics=%.3f, p=%.3f' % (statistics, p))\n",
    "# interpret\n",
    "alpha = 0.05  # 5% area under the normal graph\n",
    "if p > alpha:\n",
    "\tprint('People with high or low earnings work same number of hours (fail to reject H0)')\n",
    "else:\n",
    "\tprint('People with high earnings work more hours (reject H0)')"
   ]
  },
  {
   "cell_type": "markdown",
   "id": "b1569ba0",
   "metadata": {},
   "source": [
    "## Our claim can be proved with the following statistics. \n",
    "\n",
    "Statistics=20.562, p=0.000 People who get high salary work more hours\n",
    "(reject Ho)\n",
    "\n",
    "\n",
    "The probability distribution of population and samples above (In(75)) clearly states our claim."
   ]
  },
  {
   "cell_type": "code",
   "execution_count": null,
   "id": "f5ab19fb",
   "metadata": {},
   "outputs": [],
   "source": []
  }
 ],
 "metadata": {
  "kernelspec": {
   "display_name": "Python 3",
   "language": "python",
   "name": "python3"
  },
  "language_info": {
   "codemirror_mode": {
    "name": "ipython",
    "version": 3
   },
   "file_extension": ".py",
   "mimetype": "text/x-python",
   "name": "python",
   "nbconvert_exporter": "python",
   "pygments_lexer": "ipython3",
   "version": "3.8.8"
  }
 },
 "nbformat": 4,
 "nbformat_minor": 5
}
